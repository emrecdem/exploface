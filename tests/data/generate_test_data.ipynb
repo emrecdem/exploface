{
 "cells": [
  {
   "cell_type": "code",
   "execution_count": 1,
   "metadata": {},
   "outputs": [],
   "source": [
    "import pandas as pd\n",
    "import numpy as np\n",
    "import matplotlib.pyplot as plt\n",
    "\n",
    "import exploface as ef"
   ]
  },
  {
   "cell_type": "code",
   "execution_count": 2,
   "metadata": {},
   "outputs": [],
   "source": [
    "def make_empty_df():\n",
    "    timestamp = np.arange(0,20, 0.1)\n",
    "    confidence = timestamp*0+1\n",
    "    success = confidence\n",
    "    data = {\"timestamp\": timestamp, \"confidence\":confidence, \"success\":success}\n",
    "\n",
    "    some_AU_labels = [\"AU01_\",\n",
    "                        \"AU02_\",\n",
    "                        \"AU04_\",\n",
    "                        \"AU05_\",\n",
    "                        \"AU06_\",\n",
    "                        \"AU07_\",\n",
    "                        \"AU09_\",\n",
    "                        \"AU10_\",\n",
    "                        \"AU12_\",\n",
    "                        \"AU14_\",\n",
    "                        \"AU15_\",\n",
    "                        \"AU17_\",\n",
    "                        \"AU20_\",\n",
    "                        \"AU23_\",\n",
    "                        \"AU25_\",\n",
    "                        \"AU26_\",\n",
    "                        \"AU28_\",\n",
    "                        \"AU45_\",\n",
    "                     ]\n",
    "\n",
    "    for l in some_AU_labels:\n",
    "        data.update({l+\"r\": timestamp*0}) # For intensity of AUs\n",
    "        data.update({l+\"c\": timestamp*0}) # For detection of AUs\n",
    "\n",
    "    return pd.DataFrame(data)"
   ]
  },
  {
   "cell_type": "markdown",
   "metadata": {},
   "source": [
    "### DATA FOR TestForGettingActivationTimesWithThreshold()"
   ]
  },
  {
   "cell_type": "code",
   "execution_count": 3,
   "metadata": {},
   "outputs": [
    {
     "data": {
      "text/html": [
       "<div>\n",
       "<style scoped>\n",
       "    .dataframe tbody tr th:only-of-type {\n",
       "        vertical-align: middle;\n",
       "    }\n",
       "\n",
       "    .dataframe tbody tr th {\n",
       "        vertical-align: top;\n",
       "    }\n",
       "\n",
       "    .dataframe thead th {\n",
       "        text-align: right;\n",
       "    }\n",
       "</style>\n",
       "<table border=\"1\" class=\"dataframe\">\n",
       "  <thead>\n",
       "    <tr style=\"text-align: right;\">\n",
       "      <th></th>\n",
       "      <th>AU01_c</th>\n",
       "      <th>AU01_r</th>\n",
       "      <th>AU02_c</th>\n",
       "      <th>AU02_r</th>\n",
       "      <th>AU04_c</th>\n",
       "      <th>AU04_r</th>\n",
       "      <th>AU05_c</th>\n",
       "      <th>AU05_r</th>\n",
       "      <th>AU06_c</th>\n",
       "      <th>AU06_r</th>\n",
       "      <th>...</th>\n",
       "      <th>AU25_r</th>\n",
       "      <th>AU26_c</th>\n",
       "      <th>AU26_r</th>\n",
       "      <th>AU28_c</th>\n",
       "      <th>AU28_r</th>\n",
       "      <th>AU45_c</th>\n",
       "      <th>AU45_r</th>\n",
       "      <th>confidence</th>\n",
       "      <th>success</th>\n",
       "      <th>timestamp</th>\n",
       "    </tr>\n",
       "  </thead>\n",
       "  <tbody>\n",
       "    <tr>\n",
       "      <th>0</th>\n",
       "      <td>0.0</td>\n",
       "      <td>0.0</td>\n",
       "      <td>0.0</td>\n",
       "      <td>0.0</td>\n",
       "      <td>0.0</td>\n",
       "      <td>0.0</td>\n",
       "      <td>0.0</td>\n",
       "      <td>0.0</td>\n",
       "      <td>0.0</td>\n",
       "      <td>0.0</td>\n",
       "      <td>...</td>\n",
       "      <td>0.0</td>\n",
       "      <td>0.0</td>\n",
       "      <td>0.0</td>\n",
       "      <td>0.0</td>\n",
       "      <td>0.0</td>\n",
       "      <td>0.0</td>\n",
       "      <td>0.0</td>\n",
       "      <td>1.0</td>\n",
       "      <td>1.0</td>\n",
       "      <td>0.0</td>\n",
       "    </tr>\n",
       "    <tr>\n",
       "      <th>1</th>\n",
       "      <td>0.0</td>\n",
       "      <td>0.0</td>\n",
       "      <td>0.0</td>\n",
       "      <td>0.0</td>\n",
       "      <td>0.0</td>\n",
       "      <td>0.0</td>\n",
       "      <td>0.0</td>\n",
       "      <td>0.0</td>\n",
       "      <td>0.0</td>\n",
       "      <td>0.0</td>\n",
       "      <td>...</td>\n",
       "      <td>0.0</td>\n",
       "      <td>0.0</td>\n",
       "      <td>0.0</td>\n",
       "      <td>0.0</td>\n",
       "      <td>0.0</td>\n",
       "      <td>0.0</td>\n",
       "      <td>0.0</td>\n",
       "      <td>1.0</td>\n",
       "      <td>1.0</td>\n",
       "      <td>0.1</td>\n",
       "    </tr>\n",
       "    <tr>\n",
       "      <th>2</th>\n",
       "      <td>0.0</td>\n",
       "      <td>0.0</td>\n",
       "      <td>0.0</td>\n",
       "      <td>0.0</td>\n",
       "      <td>0.0</td>\n",
       "      <td>0.0</td>\n",
       "      <td>0.0</td>\n",
       "      <td>0.0</td>\n",
       "      <td>0.0</td>\n",
       "      <td>0.0</td>\n",
       "      <td>...</td>\n",
       "      <td>0.0</td>\n",
       "      <td>0.0</td>\n",
       "      <td>0.0</td>\n",
       "      <td>0.0</td>\n",
       "      <td>0.0</td>\n",
       "      <td>0.0</td>\n",
       "      <td>0.0</td>\n",
       "      <td>1.0</td>\n",
       "      <td>1.0</td>\n",
       "      <td>0.2</td>\n",
       "    </tr>\n",
       "    <tr>\n",
       "      <th>3</th>\n",
       "      <td>0.0</td>\n",
       "      <td>0.0</td>\n",
       "      <td>0.0</td>\n",
       "      <td>0.0</td>\n",
       "      <td>0.0</td>\n",
       "      <td>0.0</td>\n",
       "      <td>0.0</td>\n",
       "      <td>0.0</td>\n",
       "      <td>0.0</td>\n",
       "      <td>0.0</td>\n",
       "      <td>...</td>\n",
       "      <td>0.0</td>\n",
       "      <td>0.0</td>\n",
       "      <td>0.0</td>\n",
       "      <td>0.0</td>\n",
       "      <td>0.0</td>\n",
       "      <td>0.0</td>\n",
       "      <td>0.0</td>\n",
       "      <td>1.0</td>\n",
       "      <td>1.0</td>\n",
       "      <td>0.3</td>\n",
       "    </tr>\n",
       "    <tr>\n",
       "      <th>4</th>\n",
       "      <td>0.0</td>\n",
       "      <td>0.0</td>\n",
       "      <td>0.0</td>\n",
       "      <td>0.0</td>\n",
       "      <td>0.0</td>\n",
       "      <td>0.0</td>\n",
       "      <td>0.0</td>\n",
       "      <td>0.0</td>\n",
       "      <td>0.0</td>\n",
       "      <td>0.0</td>\n",
       "      <td>...</td>\n",
       "      <td>0.0</td>\n",
       "      <td>0.0</td>\n",
       "      <td>0.0</td>\n",
       "      <td>0.0</td>\n",
       "      <td>0.0</td>\n",
       "      <td>0.0</td>\n",
       "      <td>0.0</td>\n",
       "      <td>1.0</td>\n",
       "      <td>1.0</td>\n",
       "      <td>0.4</td>\n",
       "    </tr>\n",
       "  </tbody>\n",
       "</table>\n",
       "<p>5 rows × 39 columns</p>\n",
       "</div>"
      ],
      "text/plain": [
       "   AU01_c  AU01_r  AU02_c  AU02_r  AU04_c  AU04_r  AU05_c  AU05_r  AU06_c  \\\n",
       "0     0.0     0.0     0.0     0.0     0.0     0.0     0.0     0.0     0.0   \n",
       "1     0.0     0.0     0.0     0.0     0.0     0.0     0.0     0.0     0.0   \n",
       "2     0.0     0.0     0.0     0.0     0.0     0.0     0.0     0.0     0.0   \n",
       "3     0.0     0.0     0.0     0.0     0.0     0.0     0.0     0.0     0.0   \n",
       "4     0.0     0.0     0.0     0.0     0.0     0.0     0.0     0.0     0.0   \n",
       "\n",
       "   AU06_r    ...      AU25_r  AU26_c  AU26_r  AU28_c  AU28_r  AU45_c  AU45_r  \\\n",
       "0     0.0    ...         0.0     0.0     0.0     0.0     0.0     0.0     0.0   \n",
       "1     0.0    ...         0.0     0.0     0.0     0.0     0.0     0.0     0.0   \n",
       "2     0.0    ...         0.0     0.0     0.0     0.0     0.0     0.0     0.0   \n",
       "3     0.0    ...         0.0     0.0     0.0     0.0     0.0     0.0     0.0   \n",
       "4     0.0    ...         0.0     0.0     0.0     0.0     0.0     0.0     0.0   \n",
       "\n",
       "   confidence  success  timestamp  \n",
       "0         1.0      1.0        0.0  \n",
       "1         1.0      1.0        0.1  \n",
       "2         1.0      1.0        0.2  \n",
       "3         1.0      1.0        0.3  \n",
       "4         1.0      1.0        0.4  \n",
       "\n",
       "[5 rows x 39 columns]"
      ]
     },
     "execution_count": 3,
     "metadata": {},
     "output_type": "execute_result"
    }
   ],
   "source": [
    "basic_df = make_empty_df()\n",
    "basic_df.to_csv(\"detect_no_emotion.csv\")\n",
    "basic_df.head()"
   ]
  },
  {
   "cell_type": "code",
   "execution_count": 4,
   "metadata": {},
   "outputs": [
    {
     "data": {
      "image/png": "[encoded data removed]",
      "text/plain": [
       "<matplotlib.figure.Figure at 0x131adf6f0b8>"
      ]
     },
     "metadata": {},
     "output_type": "display_data"
    }
   ],
   "source": [
    "basic_df[\"AU01_r\"].mask((basic_df[\"timestamp\"] >= 2) & (basic_df[\"timestamp\"] <= 4), 1, inplace=True)\n",
    "basic_df[\"AU01_c\"].mask((basic_df[\"timestamp\"] >= 2) & (basic_df[\"timestamp\"] <= 4), 1, inplace=True)\n",
    "plt.plot(basic_df[\"timestamp\"], basic_df[\"AU01_r\"])\n",
    "plt.plot(basic_df[\"timestamp\"], basic_df[\"AU01_c\"], \"--\")\n",
    "plt.plot(basic_df[\"timestamp\"], basic_df[\"confidence\"])\n",
    "plt.show()\n",
    "basic_df.to_csv(\"detect_AU01_r_time2_4.csv\")"
   ]
  },
  {
   "cell_type": "code",
   "execution_count": 7,
   "metadata": {},
   "outputs": [
    {
     "data": {
      "image/png": "[encoded data removed]",
      "text/plain": [
       "<matplotlib.figure.Figure at 0x131ae16b278>"
      ]
     },
     "metadata": {},
     "output_type": "display_data"
    }
   ],
   "source": [
    "basic_df[\"AU01_r\"].mask((basic_df[\"timestamp\"] >= 2) & (basic_df[\"timestamp\"] <= 4), 1, inplace=True)\n",
    "basic_df[\"confidence\"] = basic_df[\"confidence\"]*0+0.5#.mask((basic_df[\"timestamp\"] >= 2) & (basic_df[\"timestamp\"] <= 4), 0, inplace=True)\n",
    "#basic_df[\"success\"] = basic_df[\"success\"]*0\n",
    "plt.plot(basic_df[\"timestamp\"], basic_df[\"AU01_r\"])\n",
    "plt.plot(basic_df[\"timestamp\"], basic_df[\"AU01_c\"], \"--\")\n",
    "plt.plot(basic_df[\"timestamp\"], basic_df[\"confidence\"])\n",
    "\n",
    "plt.show()\n",
    "basic_df.to_csv(\"detect_AU01_r_time2_4_confidenceLow.csv\")"
   ]
  },
  {
   "cell_type": "markdown",
   "metadata": {},
   "source": [
    "### DATA FOR time_threshold AND time_gap_smoothing"
   ]
  },
  {
   "cell_type": "code",
   "execution_count": 8,
   "metadata": {},
   "outputs": [
    {
     "name": "stdout",
     "output_type": "stream",
     "text": [
      "0.3 0.5\n",
      "4.2 4.4\n",
      "10.7 10.899999999999999\n"
     ]
    },
    {
     "data": {
      "image/png": "[encoded data removed]",
      "text/plain": [
       "<matplotlib.figure.Figure at 0x131ae1e7550>"
      ]
     },
     "metadata": {},
     "output_type": "display_data"
    }
   ],
   "source": [
    "basic_df = make_empty_df()\n",
    "#basic_df.head()\n",
    "interval_length = 0.2\n",
    "basic_df[\"AU01_r\"].mask((basic_df[\"timestamp\"] >= 2) & (basic_df[\"timestamp\"] <= 4), 1, inplace=True)\n",
    "basic_df[\"AU01_c\"].mask((basic_df[\"timestamp\"] >= 2) & (basic_df[\"timestamp\"] <= 4), 1, inplace=True)\n",
    "for i in [0.3, 4.2, 10.7]:\n",
    "    print(i, i+interval_length)\n",
    "    basic_df[\"AU01_r\"].mask((basic_df[\"timestamp\"] >= i) & (basic_df[\"timestamp\"] <= i+interval_length), 1, inplace=True)\n",
    "    basic_df[\"AU01_c\"].mask((basic_df[\"timestamp\"] >= i) & (basic_df[\"timestamp\"] <= i+interval_length), 1, inplace=True)\n",
    "basic_df[(basic_df[\"timestamp\"]>1.5) & (basic_df[\"timestamp\"]<6.)]\n",
    "basic_df.to_csv(\"detect_AU01_r_with_to_smooth_intervals.csv\")\n",
    "plt.plot(basic_df[\"timestamp\"], basic_df[\"AU01_r\"])\n",
    "plt.plot(basic_df[\"timestamp\"], basic_df[\"AU01_c\"], \"--\")\n",
    "plt.plot(basic_df[\"timestamp\"], basic_df[\"confidence\"])\n",
    "\n",
    "plt.show()\n",
    "\n",
    "#basic_df[basic_df[\"timestamp\"]>9]"
   ]
  },
  {
   "cell_type": "markdown",
   "metadata": {},
   "source": [
    "## More complicated continuous case"
   ]
  },
  {
   "cell_type": "code",
   "execution_count": 12,
   "metadata": {},
   "outputs": [
    {
     "name": "stdout",
     "output_type": "stream",
     "text": [
      "8.49 0.34\n",
      "17.41 0.33\n",
      "6.61 0.28\n",
      "0.97 0.13\n",
      "17.77 0.17\n",
      "6.1 0.24\n",
      "0.37 0.26\n",
      "7.68 0.4\n",
      "8.31 0.36\n",
      "7.27 0.12\n",
      "5.49 0.02\n",
      "16.81 0.2\n",
      "16.02 0.17\n",
      "14.33 0.06\n",
      "4.85 0.09\n",
      "2.2 0.18\n",
      "12.22 0.13\n",
      "0.66 0.2\n",
      "16.78 0.13\n",
      "16.57 0.08\n"
     ]
    }
   ],
   "source": [
    "import random\n",
    "basic_df = make_empty_df()\n",
    "#basic_df.head()\n",
    "\n",
    "basic_df[\"AU01_r\"].mask((basic_df[\"timestamp\"] >= 2) & (basic_df[\"timestamp\"] <= 4), 5, inplace=True)\n",
    "basic_df[\"AU01_r\"].mask((basic_df[\"timestamp\"] >= 4) & (basic_df[\"timestamp\"] <= 8), 2, inplace=True)\n",
    "basic_df[\"AU01_r\"].mask((basic_df[\"timestamp\"] >= 14) & (basic_df[\"timestamp\"] <= 18), 4, inplace=True)\n",
    "\n",
    "basic_df[\"AU01_c\"].mask((basic_df[\"timestamp\"] >= 2) & (basic_df[\"timestamp\"] <= 4), 1, inplace=True)\n",
    "basic_df[\"AU01_c\"].mask((basic_df[\"timestamp\"] >= 4) & (basic_df[\"timestamp\"] <= 8), 1, inplace=True)\n",
    "basic_df[\"AU01_c\"].mask((basic_df[\"timestamp\"] >= 14) & (basic_df[\"timestamp\"] <= 18), 1, inplace=True)\n",
    "\n",
    "moments = np.random.rand(10)*20\n",
    "lengths = np.random.rand(10)*0.4\n",
    "\n",
    "fall_out_moments = np.random.rand(10)*20\n",
    "fall_out_lengths = np.random.rand(10)*0.2\n",
    "\n",
    "for i, l in zip(moments, lengths):\n",
    "    print(round(i,2), round(l,2))\n",
    "    basic_df[\"AU01_r\"].mask((basic_df[\"timestamp\"] >= i) & (basic_df[\"timestamp\"] <= i+interval_length), 5, inplace=True)\n",
    "    basic_df[\"AU01_c\"].mask((basic_df[\"timestamp\"] >= i) & (basic_df[\"timestamp\"] <= i+interval_length), 1, inplace=True)\n",
    "for i, l in zip(fall_out_moments, fall_out_lengths):\n",
    "    print(round(i,2), round(l,2))\n",
    "    basic_df[\"AU01_r\"].mask((basic_df[\"timestamp\"] >= i) & (basic_df[\"timestamp\"] <= i+interval_length), 0, inplace=True)\n",
    "    basic_df[\"AU01_c\"].mask((basic_df[\"timestamp\"] >= i) & (basic_df[\"timestamp\"] <= i+interval_length), 0, inplace=True)\n",
    "basic_df[(basic_df[\"timestamp\"]>1.5) & (basic_df[\"timestamp\"]<6.)]\n",
    "basic_df.to_csv(\"detect_AU01_r_with_to_smooth_intervals_ex2.csv\")\n",
    "\n",
    "\n",
    "#basic_df[basic_df[\"timestamp\"]>9]"
   ]
  },
  {
   "cell_type": "code",
   "execution_count": 13,
   "metadata": {},
   "outputs": [
    {
     "name": "stdout",
     "output_type": "stream",
     "text": [
      "[[0.4, 1.1], [2.0, 3.9], [6.2, 7.8], [14.0, 16.5], [17.1, 18.0]]\n"
     ]
    }
   ],
   "source": [
    "# This is what you detection using getActivationTimes\n",
    "AU_intervals = ef.extraction.getActivationTimes(basic_df, \"AU01_r\", \n",
    "                                    smooth_over_time_interval = 0.5, \n",
    "                                    threshold=3, method=\"threshold\")\n",
    "\n",
    "print(AU_intervals)\n"
   ]
  },
  {
   "cell_type": "code",
   "execution_count": 15,
   "metadata": {},
   "outputs": [
    {
     "data": {
      "text/html": [
       "<div>\n",
       "<style scoped>\n",
       "    .dataframe tbody tr th:only-of-type {\n",
       "        vertical-align: middle;\n",
       "    }\n",
       "\n",
       "    .dataframe tbody tr th {\n",
       "        vertical-align: top;\n",
       "    }\n",
       "\n",
       "    .dataframe thead th {\n",
       "        text-align: right;\n",
       "    }\n",
       "</style>\n",
       "<table border=\"1\" class=\"dataframe\">\n",
       "  <thead>\n",
       "    <tr style=\"text-align: right;\">\n",
       "      <th></th>\n",
       "      <th>start</th>\n",
       "      <th>end</th>\n",
       "      <th>mean_intensity</th>\n",
       "      <th>std_intensity</th>\n",
       "      <th>mean_confidence</th>\n",
       "      <th>duration</th>\n",
       "    </tr>\n",
       "  </thead>\n",
       "  <tbody>\n",
       "    <tr>\n",
       "      <th>0</th>\n",
       "      <td>0.4</td>\n",
       "      <td>1.1</td>\n",
       "      <td>1.666667</td>\n",
       "      <td>2.581989</td>\n",
       "      <td>1.0</td>\n",
       "      <td>0.7</td>\n",
       "    </tr>\n",
       "    <tr>\n",
       "      <th>1</th>\n",
       "      <td>2.0</td>\n",
       "      <td>8.6</td>\n",
       "      <td>2.969231</td>\n",
       "      <td>1.845342</td>\n",
       "      <td>1.0</td>\n",
       "      <td>6.6</td>\n",
       "    </tr>\n",
       "    <tr>\n",
       "      <th>2</th>\n",
       "      <td>14.0</td>\n",
       "      <td>16.5</td>\n",
       "      <td>3.333333</td>\n",
       "      <td>1.522774</td>\n",
       "      <td>1.0</td>\n",
       "      <td>2.5</td>\n",
       "    </tr>\n",
       "    <tr>\n",
       "      <th>3</th>\n",
       "      <td>17.1</td>\n",
       "      <td>18.0</td>\n",
       "      <td>4.500000</td>\n",
       "      <td>0.534522</td>\n",
       "      <td>1.0</td>\n",
       "      <td>0.9</td>\n",
       "    </tr>\n",
       "  </tbody>\n",
       "</table>\n",
       "</div>"
      ],
      "text/plain": [
       "   start   end  mean_intensity  std_intensity  mean_confidence  duration\n",
       "0    0.4   1.1        1.666667       2.581989              1.0       0.7\n",
       "1    2.0   8.6        2.969231       1.845342              1.0       6.6\n",
       "2   14.0  16.5        3.333333       1.522774              1.0       2.5\n",
       "3   17.1  18.0        4.500000       0.534522              1.0       0.9"
      ]
     },
     "execution_count": 15,
     "metadata": {},
     "output_type": "execute_result"
    }
   ],
   "source": [
    "# This is what you get with get_activation_dataframe\n",
    "# This uses the feature_detected as a measure of if the feature is detected.\n",
    "AU01_r_results = ef.extraction.get_activation_dataframe(basic_df, \n",
    "                                             feature_detected=\"AU01_c\", \n",
    "                                             feature_intensity=\"AU01_r\", \n",
    "                                             smooth_over_time_interval=0.5)#, threshold=1, threshold_method=\"threshold\")\n",
    "AU01_r_results"
   ]
  },
  {
   "cell_type": "code",
   "execution_count": 18,
   "metadata": {},
   "outputs": [
    {
     "data": {
      "image/png": "[encoded data removed]",
      "text/plain": [
       "<matplotlib.figure.Figure at 0x131ae013c50>"
      ]
     },
     "metadata": {},
     "output_type": "display_data"
    }
   ],
   "source": [
    "\n",
    "plt.plot(basic_df[\"timestamp\"], basic_df[\"AU01_r\"], \"b\")\n",
    "plt.plot(basic_df[\"timestamp\"], basic_df[\"AU01_c\"]-1.1, \"--\", color=\"green\")\n",
    "plt.plot(basic_df[\"timestamp\"], basic_df[\"confidence\"], \"orange\")\n",
    "\n",
    "for t in AU_intervals:\n",
    "    plt.plot(t, [5.2,5.2], color=\"r\")\n",
    "    \n",
    "for t in zip(AU01_r_results[\"start\"], AU01_r_results[\"end\"]):\n",
    "    plt.plot(t, [5.3,5.3], color=\"b\")\n",
    "    \n",
    "    \n",
    "    \n",
    "plt.axhline(3, linestyle=\"--\")\n",
    "plt.show()"
   ]
  },
  {
   "cell_type": "code",
   "execution_count": null,
   "metadata": {},
   "outputs": [],
   "source": []
  }
 ],
 "metadata": {
  "kernelspec": {
   "display_name": "Python 3",
   "language": "python",
   "name": "python3"
  },
  "language_info": {
   "codemirror_mode": {
    "name": "ipython",
    "version": 3
   },
   "file_extension": ".py",
   "mimetype": "text/x-python",
   "name": "python",
   "nbconvert_exporter": "python",
   "pygments_lexer": "ipython3",
   "version": "3.6.3"
  }
 },
 "nbformat": 4,
 "nbformat_minor": 2
}
