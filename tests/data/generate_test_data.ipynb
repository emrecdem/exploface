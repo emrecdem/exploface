{
 "cells": [
  {
   "cell_type": "code",
   "execution_count": 113,
   "metadata": {},
   "outputs": [],
   "source": [
    "import pandas as pd\n",
    "import numpy as np\n",
    "import matplotlib.pyplot as plt"
   ]
  },
  {
   "cell_type": "code",
   "execution_count": 118,
   "metadata": {},
   "outputs": [],
   "source": [
    "def make_empty_df():\n",
    "    timestamp = np.arange(0,20, 0.1)\n",
    "    confidence = timestamp*0+1\n",
    "    success = confidence\n",
    "    data = {\"timestamp\": timestamp, \"confidence\":confidence, \"success\":success}\n",
    "\n",
    "    some_AU_labels = [\"AU01_\",\n",
    "                        \"AU02_\",\n",
    "                        \"AU04_\",\n",
    "                        \"AU05_\",\n",
    "                        \"AU06_\",\n",
    "                        \"AU07_\",\n",
    "                        \"AU09_\",\n",
    "                        \"AU10_\",\n",
    "                        \"AU12_\",\n",
    "                        \"AU14_\",\n",
    "                        \"AU15_\",\n",
    "                        \"AU17_\",\n",
    "                        \"AU20_\",\n",
    "                        \"AU23_\",\n",
    "                        \"AU25_\",\n",
    "                        \"AU26_\",\n",
    "                        \"AU28_\",\n",
    "                        \"AU45_\",\n",
    "                     ]\n",
    "\n",
    "    for l in some_AU_labels:\n",
    "        data.update({l+\"r\": timestamp*0}) # For intensity of AUs\n",
    "        data.update({l+\"c\": timestamp*0}) # For detection of AUs\n",
    "\n",
    "    return pd.DataFrame(data)"
   ]
  },
  {
   "cell_type": "markdown",
   "metadata": {},
   "source": [
    "### DATA FOR TestForGettingActivationTimesWithThreshold()"
   ]
  },
  {
   "cell_type": "code",
   "execution_count": 119,
   "metadata": {},
   "outputs": [
    {
     "data": {
      "text/html": [
       "<div>\n",
       "<style scoped>\n",
       "    .dataframe tbody tr th:only-of-type {\n",
       "        vertical-align: middle;\n",
       "    }\n",
       "\n",
       "    .dataframe tbody tr th {\n",
       "        vertical-align: top;\n",
       "    }\n",
       "\n",
       "    .dataframe thead th {\n",
       "        text-align: right;\n",
       "    }\n",
       "</style>\n",
       "<table border=\"1\" class=\"dataframe\">\n",
       "  <thead>\n",
       "    <tr style=\"text-align: right;\">\n",
       "      <th></th>\n",
       "      <th>AU01_c</th>\n",
       "      <th>AU01_r</th>\n",
       "      <th>AU02_c</th>\n",
       "      <th>AU02_r</th>\n",
       "      <th>AU04_c</th>\n",
       "      <th>AU04_r</th>\n",
       "      <th>AU05_c</th>\n",
       "      <th>AU05_r</th>\n",
       "      <th>AU06_c</th>\n",
       "      <th>AU06_r</th>\n",
       "      <th>...</th>\n",
       "      <th>AU25_r</th>\n",
       "      <th>AU26_c</th>\n",
       "      <th>AU26_r</th>\n",
       "      <th>AU28_c</th>\n",
       "      <th>AU28_r</th>\n",
       "      <th>AU45_c</th>\n",
       "      <th>AU45_r</th>\n",
       "      <th>confidence</th>\n",
       "      <th>success</th>\n",
       "      <th>timestamp</th>\n",
       "    </tr>\n",
       "  </thead>\n",
       "  <tbody>\n",
       "    <tr>\n",
       "      <th>0</th>\n",
       "      <td>0.0</td>\n",
       "      <td>0.0</td>\n",
       "      <td>0.0</td>\n",
       "      <td>0.0</td>\n",
       "      <td>0.0</td>\n",
       "      <td>0.0</td>\n",
       "      <td>0.0</td>\n",
       "      <td>0.0</td>\n",
       "      <td>0.0</td>\n",
       "      <td>0.0</td>\n",
       "      <td>...</td>\n",
       "      <td>0.0</td>\n",
       "      <td>0.0</td>\n",
       "      <td>0.0</td>\n",
       "      <td>0.0</td>\n",
       "      <td>0.0</td>\n",
       "      <td>0.0</td>\n",
       "      <td>0.0</td>\n",
       "      <td>1.0</td>\n",
       "      <td>1.0</td>\n",
       "      <td>0.0</td>\n",
       "    </tr>\n",
       "    <tr>\n",
       "      <th>1</th>\n",
       "      <td>0.0</td>\n",
       "      <td>0.0</td>\n",
       "      <td>0.0</td>\n",
       "      <td>0.0</td>\n",
       "      <td>0.0</td>\n",
       "      <td>0.0</td>\n",
       "      <td>0.0</td>\n",
       "      <td>0.0</td>\n",
       "      <td>0.0</td>\n",
       "      <td>0.0</td>\n",
       "      <td>...</td>\n",
       "      <td>0.0</td>\n",
       "      <td>0.0</td>\n",
       "      <td>0.0</td>\n",
       "      <td>0.0</td>\n",
       "      <td>0.0</td>\n",
       "      <td>0.0</td>\n",
       "      <td>0.0</td>\n",
       "      <td>1.0</td>\n",
       "      <td>1.0</td>\n",
       "      <td>0.1</td>\n",
       "    </tr>\n",
       "    <tr>\n",
       "      <th>2</th>\n",
       "      <td>0.0</td>\n",
       "      <td>0.0</td>\n",
       "      <td>0.0</td>\n",
       "      <td>0.0</td>\n",
       "      <td>0.0</td>\n",
       "      <td>0.0</td>\n",
       "      <td>0.0</td>\n",
       "      <td>0.0</td>\n",
       "      <td>0.0</td>\n",
       "      <td>0.0</td>\n",
       "      <td>...</td>\n",
       "      <td>0.0</td>\n",
       "      <td>0.0</td>\n",
       "      <td>0.0</td>\n",
       "      <td>0.0</td>\n",
       "      <td>0.0</td>\n",
       "      <td>0.0</td>\n",
       "      <td>0.0</td>\n",
       "      <td>1.0</td>\n",
       "      <td>1.0</td>\n",
       "      <td>0.2</td>\n",
       "    </tr>\n",
       "    <tr>\n",
       "      <th>3</th>\n",
       "      <td>0.0</td>\n",
       "      <td>0.0</td>\n",
       "      <td>0.0</td>\n",
       "      <td>0.0</td>\n",
       "      <td>0.0</td>\n",
       "      <td>0.0</td>\n",
       "      <td>0.0</td>\n",
       "      <td>0.0</td>\n",
       "      <td>0.0</td>\n",
       "      <td>0.0</td>\n",
       "      <td>...</td>\n",
       "      <td>0.0</td>\n",
       "      <td>0.0</td>\n",
       "      <td>0.0</td>\n",
       "      <td>0.0</td>\n",
       "      <td>0.0</td>\n",
       "      <td>0.0</td>\n",
       "      <td>0.0</td>\n",
       "      <td>1.0</td>\n",
       "      <td>1.0</td>\n",
       "      <td>0.3</td>\n",
       "    </tr>\n",
       "    <tr>\n",
       "      <th>4</th>\n",
       "      <td>0.0</td>\n",
       "      <td>0.0</td>\n",
       "      <td>0.0</td>\n",
       "      <td>0.0</td>\n",
       "      <td>0.0</td>\n",
       "      <td>0.0</td>\n",
       "      <td>0.0</td>\n",
       "      <td>0.0</td>\n",
       "      <td>0.0</td>\n",
       "      <td>0.0</td>\n",
       "      <td>...</td>\n",
       "      <td>0.0</td>\n",
       "      <td>0.0</td>\n",
       "      <td>0.0</td>\n",
       "      <td>0.0</td>\n",
       "      <td>0.0</td>\n",
       "      <td>0.0</td>\n",
       "      <td>0.0</td>\n",
       "      <td>1.0</td>\n",
       "      <td>1.0</td>\n",
       "      <td>0.4</td>\n",
       "    </tr>\n",
       "  </tbody>\n",
       "</table>\n",
       "<p>5 rows × 39 columns</p>\n",
       "</div>"
      ],
      "text/plain": [
       "   AU01_c  AU01_r  AU02_c  AU02_r  AU04_c  AU04_r  AU05_c  AU05_r  AU06_c  \\\n",
       "0     0.0     0.0     0.0     0.0     0.0     0.0     0.0     0.0     0.0   \n",
       "1     0.0     0.0     0.0     0.0     0.0     0.0     0.0     0.0     0.0   \n",
       "2     0.0     0.0     0.0     0.0     0.0     0.0     0.0     0.0     0.0   \n",
       "3     0.0     0.0     0.0     0.0     0.0     0.0     0.0     0.0     0.0   \n",
       "4     0.0     0.0     0.0     0.0     0.0     0.0     0.0     0.0     0.0   \n",
       "\n",
       "   AU06_r    ...      AU25_r  AU26_c  AU26_r  AU28_c  AU28_r  AU45_c  AU45_r  \\\n",
       "0     0.0    ...         0.0     0.0     0.0     0.0     0.0     0.0     0.0   \n",
       "1     0.0    ...         0.0     0.0     0.0     0.0     0.0     0.0     0.0   \n",
       "2     0.0    ...         0.0     0.0     0.0     0.0     0.0     0.0     0.0   \n",
       "3     0.0    ...         0.0     0.0     0.0     0.0     0.0     0.0     0.0   \n",
       "4     0.0    ...         0.0     0.0     0.0     0.0     0.0     0.0     0.0   \n",
       "\n",
       "   confidence  success  timestamp  \n",
       "0         1.0      1.0        0.0  \n",
       "1         1.0      1.0        0.1  \n",
       "2         1.0      1.0        0.2  \n",
       "3         1.0      1.0        0.3  \n",
       "4         1.0      1.0        0.4  \n",
       "\n",
       "[5 rows x 39 columns]"
      ]
     },
     "execution_count": 119,
     "metadata": {},
     "output_type": "execute_result"
    }
   ],
   "source": [
    "basic_df = make_empty_df()\n",
    "basic_df.to_csv(\"detect_no_emotion.csv\")\n",
    "basic_df.head()"
   ]
  },
  {
   "cell_type": "code",
   "execution_count": 120,
   "metadata": {},
   "outputs": [
    {
     "data": {
      "image/png": "[encoded data removed]",
      "text/plain": [
       "<matplotlib.figure.Figure at 0x1ee25cffb38>"
      ]
     },
     "metadata": {},
     "output_type": "display_data"
    }
   ],
   "source": [
    "basic_df[\"AU01_r\"].mask((basic_df[\"timestamp\"] >= 2) & (basic_df[\"timestamp\"] <= 4), 1, inplace=True)\n",
    "plt.plot(basic_df[\"timestamp\"], basic_df[\"AU01_r\"])\n",
    "plt.plot(basic_df[\"timestamp\"], basic_df[\"confidence\"])\n",
    "plt.show()\n",
    "basic_df.to_csv(\"detect_AU01_r_time2_4.csv\")"
   ]
  },
  {
   "cell_type": "code",
   "execution_count": 121,
   "metadata": {},
   "outputs": [
    {
     "data": {
      "image/png": "[encoded data removed]",
      "text/plain": [
       "<matplotlib.figure.Figure at 0x1ee25cffa90>"
      ]
     },
     "metadata": {},
     "output_type": "display_data"
    }
   ],
   "source": [
    "basic_df[\"AU01_r\"].mask((basic_df[\"timestamp\"] >= 2) & (basic_df[\"timestamp\"] <= 4), 1, inplace=True)\n",
    "basic_df[\"confidence\"] = basic_df[\"confidence\"]*0+0.5#.mask((basic_df[\"timestamp\"] >= 2) & (basic_df[\"timestamp\"] <= 4), 0, inplace=True)\n",
    "#basic_df[\"success\"] = basic_df[\"success\"]*0\n",
    "plt.plot(basic_df[\"timestamp\"], basic_df[\"AU01_r\"])\n",
    "plt.plot(basic_df[\"timestamp\"], basic_df[\"confidence\"])\n",
    "\n",
    "plt.show()\n",
    "basic_df.to_csv(\"detect_AU01_r_time2_4_confidence0.csv\")"
   ]
  },
  {
   "cell_type": "markdown",
   "metadata": {},
   "source": [
    "### DATA FOR time_threshold AND time_gap_smoothing"
   ]
  },
  {
   "cell_type": "code",
   "execution_count": 122,
   "metadata": {},
   "outputs": [],
   "source": [
    "basic_df = make_empty_df()"
   ]
  },
  {
   "cell_type": "code",
   "execution_count": null,
   "metadata": {},
   "outputs": [],
   "source": []
  }
 ],
 "metadata": {
  "kernelspec": {
   "display_name": "Python 3",
   "language": "python",
   "name": "python3"
  },
  "language_info": {
   "codemirror_mode": {
    "name": "ipython",
    "version": 3
   },
   "file_extension": ".py",
   "mimetype": "text/x-python",
   "name": "python",
   "nbconvert_exporter": "python",
   "pygments_lexer": "ipython3",
   "version": "3.6.3"
  }
 },
 "nbformat": 4,
 "nbformat_minor": 2
}
