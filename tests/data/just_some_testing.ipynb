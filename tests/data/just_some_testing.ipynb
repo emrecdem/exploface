{
 "cells": [
  {
   "cell_type": "code",
   "execution_count": 1,
   "metadata": {},
   "outputs": [],
   "source": [
    "import pandas as pd\n",
    "import numpy as np\n",
    "import matplotlib.pyplot as plt\n",
    "import pprint as pp\n",
    "import exploface as ef"
   ]
  },
  {
   "cell_type": "code",
   "execution_count": 9,
   "metadata": {},
   "outputs": [],
   "source": [
    "def make_empty_df():\n",
    "    timestamp = np.arange(0,20, 0.1)\n",
    "    confidence = timestamp*0+1\n",
    "    success = confidence\n",
    "    data = {\"timestamp\": timestamp, \"confidence\":confidence, \"success\":success}\n",
    "\n",
    "    some_AU_labels = [\"AU01_\",\n",
    "                        \"AU02_\",\n",
    "                        \"AU04_\",\n",
    "                        \"AU05_\",\n",
    "                        \"AU06_\",\n",
    "                        \"AU07_\",\n",
    "                        \"AU09_\",\n",
    "                        \"AU10_\",\n",
    "                        \"AU12_\",\n",
    "                        \"AU14_\",\n",
    "                        \"AU15_\",\n",
    "                        \"AU17_\",\n",
    "                        \"AU20_\",\n",
    "                        \"AU23_\",\n",
    "                        \"AU25_\",\n",
    "                        \"AU26_\",\n",
    "                        \"AU28_\",\n",
    "                        \"AU45_\",\n",
    "                     ]\n",
    "\n",
    "    for l in some_AU_labels:\n",
    "        data.update({l+\"r\": timestamp*0}) # For intensity of AUs\n",
    "        data.update({l+\"c\": timestamp*0}) # For detection of AUs\n",
    "\n",
    "    return pd.DataFrame(data)"
   ]
  },
  {
   "cell_type": "markdown",
   "metadata": {},
   "source": [
    "### DATA FOR TestForGettingActivationTimesWithThreshold()"
   ]
  },
  {
   "cell_type": "code",
   "execution_count": 10,
   "metadata": {},
   "outputs": [
    {
     "data": {
      "text/html": [
       "<div>\n",
       "<style scoped>\n",
       "    .dataframe tbody tr th:only-of-type {\n",
       "        vertical-align: middle;\n",
       "    }\n",
       "\n",
       "    .dataframe tbody tr th {\n",
       "        vertical-align: top;\n",
       "    }\n",
       "\n",
       "    .dataframe thead th {\n",
       "        text-align: right;\n",
       "    }\n",
       "</style>\n",
       "<table border=\"1\" class=\"dataframe\">\n",
       "  <thead>\n",
       "    <tr style=\"text-align: right;\">\n",
       "      <th></th>\n",
       "      <th>AU01_c</th>\n",
       "      <th>AU01_r</th>\n",
       "      <th>AU02_c</th>\n",
       "      <th>AU02_r</th>\n",
       "      <th>AU04_c</th>\n",
       "      <th>AU04_r</th>\n",
       "      <th>AU05_c</th>\n",
       "      <th>AU05_r</th>\n",
       "      <th>AU06_c</th>\n",
       "      <th>AU06_r</th>\n",
       "      <th>...</th>\n",
       "      <th>AU25_r</th>\n",
       "      <th>AU26_c</th>\n",
       "      <th>AU26_r</th>\n",
       "      <th>AU28_c</th>\n",
       "      <th>AU28_r</th>\n",
       "      <th>AU45_c</th>\n",
       "      <th>AU45_r</th>\n",
       "      <th>confidence</th>\n",
       "      <th>success</th>\n",
       "      <th>timestamp</th>\n",
       "    </tr>\n",
       "  </thead>\n",
       "  <tbody>\n",
       "    <tr>\n",
       "      <th>0</th>\n",
       "      <td>0.0</td>\n",
       "      <td>0.0</td>\n",
       "      <td>0.0</td>\n",
       "      <td>0.0</td>\n",
       "      <td>0.0</td>\n",
       "      <td>0.0</td>\n",
       "      <td>0.0</td>\n",
       "      <td>0.0</td>\n",
       "      <td>0.0</td>\n",
       "      <td>0.0</td>\n",
       "      <td>...</td>\n",
       "      <td>0.0</td>\n",
       "      <td>0.0</td>\n",
       "      <td>0.0</td>\n",
       "      <td>0.0</td>\n",
       "      <td>0.0</td>\n",
       "      <td>0.0</td>\n",
       "      <td>0.0</td>\n",
       "      <td>1.0</td>\n",
       "      <td>1.0</td>\n",
       "      <td>0.0</td>\n",
       "    </tr>\n",
       "    <tr>\n",
       "      <th>1</th>\n",
       "      <td>0.0</td>\n",
       "      <td>0.0</td>\n",
       "      <td>0.0</td>\n",
       "      <td>0.0</td>\n",
       "      <td>0.0</td>\n",
       "      <td>0.0</td>\n",
       "      <td>0.0</td>\n",
       "      <td>0.0</td>\n",
       "      <td>0.0</td>\n",
       "      <td>0.0</td>\n",
       "      <td>...</td>\n",
       "      <td>0.0</td>\n",
       "      <td>0.0</td>\n",
       "      <td>0.0</td>\n",
       "      <td>0.0</td>\n",
       "      <td>0.0</td>\n",
       "      <td>0.0</td>\n",
       "      <td>0.0</td>\n",
       "      <td>1.0</td>\n",
       "      <td>1.0</td>\n",
       "      <td>0.1</td>\n",
       "    </tr>\n",
       "    <tr>\n",
       "      <th>2</th>\n",
       "      <td>0.0</td>\n",
       "      <td>0.0</td>\n",
       "      <td>0.0</td>\n",
       "      <td>0.0</td>\n",
       "      <td>0.0</td>\n",
       "      <td>0.0</td>\n",
       "      <td>0.0</td>\n",
       "      <td>0.0</td>\n",
       "      <td>0.0</td>\n",
       "      <td>0.0</td>\n",
       "      <td>...</td>\n",
       "      <td>0.0</td>\n",
       "      <td>0.0</td>\n",
       "      <td>0.0</td>\n",
       "      <td>0.0</td>\n",
       "      <td>0.0</td>\n",
       "      <td>0.0</td>\n",
       "      <td>0.0</td>\n",
       "      <td>1.0</td>\n",
       "      <td>1.0</td>\n",
       "      <td>0.2</td>\n",
       "    </tr>\n",
       "    <tr>\n",
       "      <th>3</th>\n",
       "      <td>0.0</td>\n",
       "      <td>0.0</td>\n",
       "      <td>0.0</td>\n",
       "      <td>0.0</td>\n",
       "      <td>0.0</td>\n",
       "      <td>0.0</td>\n",
       "      <td>0.0</td>\n",
       "      <td>0.0</td>\n",
       "      <td>0.0</td>\n",
       "      <td>0.0</td>\n",
       "      <td>...</td>\n",
       "      <td>0.0</td>\n",
       "      <td>0.0</td>\n",
       "      <td>0.0</td>\n",
       "      <td>0.0</td>\n",
       "      <td>0.0</td>\n",
       "      <td>0.0</td>\n",
       "      <td>0.0</td>\n",
       "      <td>1.0</td>\n",
       "      <td>1.0</td>\n",
       "      <td>0.3</td>\n",
       "    </tr>\n",
       "    <tr>\n",
       "      <th>4</th>\n",
       "      <td>0.0</td>\n",
       "      <td>0.0</td>\n",
       "      <td>0.0</td>\n",
       "      <td>0.0</td>\n",
       "      <td>0.0</td>\n",
       "      <td>0.0</td>\n",
       "      <td>0.0</td>\n",
       "      <td>0.0</td>\n",
       "      <td>0.0</td>\n",
       "      <td>0.0</td>\n",
       "      <td>...</td>\n",
       "      <td>0.0</td>\n",
       "      <td>0.0</td>\n",
       "      <td>0.0</td>\n",
       "      <td>0.0</td>\n",
       "      <td>0.0</td>\n",
       "      <td>0.0</td>\n",
       "      <td>0.0</td>\n",
       "      <td>1.0</td>\n",
       "      <td>1.0</td>\n",
       "      <td>0.4</td>\n",
       "    </tr>\n",
       "  </tbody>\n",
       "</table>\n",
       "<p>5 rows × 39 columns</p>\n",
       "</div>"
      ],
      "text/plain": [
       "   AU01_c  AU01_r  AU02_c  AU02_r  AU04_c  AU04_r  AU05_c  AU05_r  AU06_c  \\\n",
       "0     0.0     0.0     0.0     0.0     0.0     0.0     0.0     0.0     0.0   \n",
       "1     0.0     0.0     0.0     0.0     0.0     0.0     0.0     0.0     0.0   \n",
       "2     0.0     0.0     0.0     0.0     0.0     0.0     0.0     0.0     0.0   \n",
       "3     0.0     0.0     0.0     0.0     0.0     0.0     0.0     0.0     0.0   \n",
       "4     0.0     0.0     0.0     0.0     0.0     0.0     0.0     0.0     0.0   \n",
       "\n",
       "   AU06_r    ...      AU25_r  AU26_c  AU26_r  AU28_c  AU28_r  AU45_c  AU45_r  \\\n",
       "0     0.0    ...         0.0     0.0     0.0     0.0     0.0     0.0     0.0   \n",
       "1     0.0    ...         0.0     0.0     0.0     0.0     0.0     0.0     0.0   \n",
       "2     0.0    ...         0.0     0.0     0.0     0.0     0.0     0.0     0.0   \n",
       "3     0.0    ...         0.0     0.0     0.0     0.0     0.0     0.0     0.0   \n",
       "4     0.0    ...         0.0     0.0     0.0     0.0     0.0     0.0     0.0   \n",
       "\n",
       "   confidence  success  timestamp  \n",
       "0         1.0      1.0        0.0  \n",
       "1         1.0      1.0        0.1  \n",
       "2         1.0      1.0        0.2  \n",
       "3         1.0      1.0        0.3  \n",
       "4         1.0      1.0        0.4  \n",
       "\n",
       "[5 rows x 39 columns]"
      ]
     },
     "execution_count": 10,
     "metadata": {},
     "output_type": "execute_result"
    }
   ],
   "source": [
    "basic_df = make_empty_df()\n",
    "basic_df.to_csv(\"detect_no_emotion.csv\")\n",
    "basic_df.head()"
   ]
  },
  {
   "cell_type": "code",
   "execution_count": 11,
   "metadata": {},
   "outputs": [
    {
     "data": {
      "image/png": "[encoded data removed]",
      "text/plain": [
       "<matplotlib.figure.Figure at 0x17ffce7d978>"
      ]
     },
     "metadata": {},
     "output_type": "display_data"
    }
   ],
   "source": [
    "basic_df[\"AU01_r\"].mask((basic_df[\"timestamp\"] >= 2) & (basic_df[\"timestamp\"] <= 4), 1, inplace=True)\n",
    "basic_df[\"AU01_c\"].mask((basic_df[\"timestamp\"] >= 2) & (basic_df[\"timestamp\"] <= 4), 1, inplace=True)\n",
    "plt.plot(basic_df[\"timestamp\"], basic_df[\"AU01_r\"])\n",
    "plt.plot(basic_df[\"timestamp\"], basic_df[\"AU01_c\"], \"--\")\n",
    "plt.plot(basic_df[\"timestamp\"], basic_df[\"confidence\"])\n",
    "plt.show()\n",
    "basic_df.to_csv(\"detect_AU01_r_time2_4.csv\")"
   ]
  },
  {
   "cell_type": "code",
   "execution_count": 12,
   "metadata": {},
   "outputs": [
    {
     "data": {
      "image/png": "[encoded data removed]",
      "text/plain": [
       "<matplotlib.figure.Figure at 0x17ffce7dda0>"
      ]
     },
     "metadata": {},
     "output_type": "display_data"
    }
   ],
   "source": [
    "basic_df[\"AU01_r\"].mask((basic_df[\"timestamp\"] >= 2) & (basic_df[\"timestamp\"] <= 4), 1, inplace=True)\n",
    "basic_df[\"confidence\"] = basic_df[\"confidence\"]*0+0.5#.mask((basic_df[\"timestamp\"] >= 2) & (basic_df[\"timestamp\"] <= 4), 0, inplace=True)\n",
    "#basic_df[\"success\"] = basic_df[\"success\"]*0\n",
    "plt.plot(basic_df[\"timestamp\"], basic_df[\"AU01_r\"])\n",
    "plt.plot(basic_df[\"timestamp\"], basic_df[\"AU01_c\"], \"--\")\n",
    "plt.plot(basic_df[\"timestamp\"], basic_df[\"confidence\"])\n",
    "\n",
    "plt.show()\n",
    "basic_df.to_csv(\"detect_AU01_r_time2_4_confidenceLow.csv\")"
   ]
  },
  {
   "cell_type": "markdown",
   "metadata": {},
   "source": [
    "### DATA FOR time_threshold AND time_gap_smoothing"
   ]
  },
  {
   "cell_type": "code",
   "execution_count": 15,
   "metadata": {},
   "outputs": [
    {
     "name": "stdout",
     "output_type": "stream",
     "text": [
      "0.3 0.5\n",
      "4.2 4.4\n",
      "10.7 10.899999999999999\n"
     ]
    },
    {
     "data": {
      "image/png": "[encoded data removed]",
      "text/plain": [
       "<matplotlib.figure.Figure at 0x17ffcd320f0>"
      ]
     },
     "metadata": {},
     "output_type": "display_data"
    }
   ],
   "source": [
    "basic_df = make_empty_df()\n",
    "#basic_df.head()\n",
    "interval_length = 0.2\n",
    "basic_df[\"AU01_r\"].mask((basic_df[\"timestamp\"] >= 2) & (basic_df[\"timestamp\"] <= 4), 1, inplace=True)\n",
    "basic_df[\"AU01_c\"].mask((basic_df[\"timestamp\"] >= 2) & (basic_df[\"timestamp\"] <= 4), 1, inplace=True)\n",
    "for i in [0.3, 4.2, 10.7]:\n",
    "    print(i, i+interval_length)\n",
    "    basic_df[\"AU01_r\"].mask((basic_df[\"timestamp\"] >= i) & (basic_df[\"timestamp\"] <= i+interval_length), 1, inplace=True)\n",
    "    basic_df[\"AU01_c\"].mask((basic_df[\"timestamp\"] >= i) & (basic_df[\"timestamp\"] <= i+interval_length), 1, inplace=True)\n",
    "basic_df[(basic_df[\"timestamp\"]>1.5) & (basic_df[\"timestamp\"]<6.)]\n",
    "basic_df.to_csv(\"detect_AU01_r_with_to_smooth_intervals.csv\")\n",
    "plt.plot(basic_df[\"timestamp\"], basic_df[\"AU01_r\"])\n",
    "plt.plot(basic_df[\"timestamp\"], basic_df[\"AU01_c\"], \"--\")\n",
    "plt.plot(basic_df[\"timestamp\"], basic_df[\"confidence\"])\n",
    "\n",
    "plt.show()\n",
    "\n",
    "#basic_df[basic_df[\"timestamp\"]>9]"
   ]
  },
  {
   "cell_type": "markdown",
   "metadata": {},
   "source": [
    "## More complicated continuous case"
   ]
  },
  {
   "cell_type": "code",
   "execution_count": 7,
   "metadata": {},
   "outputs": [
    {
     "name": "stdout",
     "output_type": "stream",
     "text": [
      "[10.97627008 14.30378733 12.05526752 10.89766366  8.47309599 12.91788226\n",
      "  8.75174423 17.83546002 19.27325521  7.66883038]\n",
      "10.98 0.32\n",
      "14.3 0.21\n",
      "12.06 0.23\n",
      "10.9 0.37\n",
      "8.47 0.03\n",
      "12.92 0.03\n",
      "8.75 0.01\n",
      "17.84 0.33\n",
      "19.27 0.31\n",
      "7.67 0.35\n",
      "19.57 0.05\n",
      "15.98 0.15\n",
      "9.23 0.09\n",
      "15.61 0.11\n",
      "2.37 0.0\n",
      "12.8 0.12\n",
      "2.87 0.12\n",
      "18.89 0.12\n",
      "10.44 0.19\n",
      "8.29 0.14\n"
     ]
    }
   ],
   "source": [
    "import random\n",
    "basic_df = make_empty_df()\n",
    "#basic_df.head()\n",
    "\n",
    "np.random.seed(0)\n",
    "\n",
    "basic_df[\"AU01_r\"].mask((basic_df[\"timestamp\"] >= 2) & (basic_df[\"timestamp\"] <= 4), 5, inplace=True)\n",
    "basic_df[\"AU01_r\"].mask((basic_df[\"timestamp\"] >= 4) & (basic_df[\"timestamp\"] <= 8), 2, inplace=True)\n",
    "basic_df[\"AU01_r\"].mask((basic_df[\"timestamp\"] >= 14) & (basic_df[\"timestamp\"] <= 18), 4, inplace=True)\n",
    "\n",
    "basic_df[\"AU01_c\"].mask((basic_df[\"timestamp\"] >= 2) & (basic_df[\"timestamp\"] <= 4), 1, inplace=True)\n",
    "basic_df[\"AU01_c\"].mask((basic_df[\"timestamp\"] >= 4) & (basic_df[\"timestamp\"] <= 8), 1, inplace=True)\n",
    "basic_df[\"AU01_c\"].mask((basic_df[\"timestamp\"] >= 14) & (basic_df[\"timestamp\"] <= 18), 1, inplace=True)\n",
    "\n",
    "moments = np.random.rand(10)*20\n",
    "lengths = np.random.rand(10)*0.4\n",
    "print (moments)\n",
    "fall_out_moments = np.random.rand(10)*20\n",
    "fall_out_lengths = np.random.rand(10)*0.2\n",
    "\n",
    "for i, l in zip(moments, lengths):\n",
    "    print(round(i,2), round(l,2))\n",
    "    basic_df[\"AU01_r\"].mask((basic_df[\"timestamp\"] >= i) & (basic_df[\"timestamp\"] <= i+interval_length), 5, inplace=True)\n",
    "    basic_df[\"AU01_c\"].mask((basic_df[\"timestamp\"] >= i) & (basic_df[\"timestamp\"] <= i+interval_length), 1, inplace=True)\n",
    "for i, l in zip(fall_out_moments, fall_out_lengths):\n",
    "    print(round(i,2), round(l,2))\n",
    "    basic_df[\"AU01_r\"].mask((basic_df[\"timestamp\"] >= i) & (basic_df[\"timestamp\"] <= i+interval_length), 0, inplace=True)\n",
    "    basic_df[\"AU01_c\"].mask((basic_df[\"timestamp\"] >= i) & (basic_df[\"timestamp\"] <= i+interval_length), 0, inplace=True)\n",
    "basic_df[(basic_df[\"timestamp\"]>1.5) & (basic_df[\"timestamp\"]<6.)]\n",
    "basic_df.to_csv(\"detect_AU01_r_with_to_smooth_intervals_ex2.csv\")\n",
    "\n",
    "\n",
    "#basic_df[basic_df[\"timestamp\"]>9]"
   ]
  },
  {
   "cell_type": "code",
   "execution_count": 8,
   "metadata": {},
   "outputs": [
    {
     "name": "stdout",
     "output_type": "stream",
     "text": [
      "[[2.0, 3.9], [14.0, 18.0]]\n"
     ]
    }
   ],
   "source": [
    "# This is what you detection using getActivationTimes\n",
    "AU_intervals = ef.extraction.getActivationTimes(basic_df, \"AU01_r\", \n",
    "                                    smooth_over_time_interval = 0.5, \n",
    "                                    threshold=3, method=\"threshold\")\n",
    "\n",
    "print(AU_intervals)\n"
   ]
  },
  {
   "cell_type": "code",
   "execution_count": 16,
   "metadata": {},
   "outputs": [
    {
     "data": {
      "text/html": [
       "<div>\n",
       "<style scoped>\n",
       "    .dataframe tbody tr th:only-of-type {\n",
       "        vertical-align: middle;\n",
       "    }\n",
       "\n",
       "    .dataframe tbody tr th {\n",
       "        vertical-align: top;\n",
       "    }\n",
       "\n",
       "    .dataframe thead th {\n",
       "        text-align: right;\n",
       "    }\n",
       "</style>\n",
       "<table border=\"1\" class=\"dataframe\">\n",
       "  <thead>\n",
       "    <tr style=\"text-align: right;\">\n",
       "      <th></th>\n",
       "      <th>start</th>\n",
       "      <th>end</th>\n",
       "      <th>mean_intensity</th>\n",
       "      <th>std_intensity</th>\n",
       "      <th>mean_confidence</th>\n",
       "      <th>duration</th>\n",
       "    </tr>\n",
       "  </thead>\n",
       "  <tbody>\n",
       "    <tr>\n",
       "      <th>0</th>\n",
       "      <td>2.0</td>\n",
       "      <td>3.9</td>\n",
       "      <td>3.888889</td>\n",
       "      <td>2.138963</td>\n",
       "      <td>1.0</td>\n",
       "      <td>1.9</td>\n",
       "    </tr>\n",
       "    <tr>\n",
       "      <th>1</th>\n",
       "      <td>14.0</td>\n",
       "      <td>18.0</td>\n",
       "      <td>3.666667</td>\n",
       "      <td>1.284182</td>\n",
       "      <td>1.0</td>\n",
       "      <td>4.0</td>\n",
       "    </tr>\n",
       "  </tbody>\n",
       "</table>\n",
       "</div>"
      ],
      "text/plain": [
       "   start   end  mean_intensity  std_intensity  mean_confidence  duration\n",
       "0    2.0   3.9        3.888889       2.138963              1.0       1.9\n",
       "1   14.0  18.0        3.666667       1.284182              1.0       4.0"
      ]
     },
     "execution_count": 16,
     "metadata": {},
     "output_type": "execute_result"
    }
   ],
   "source": [
    "# This is what you get with get_activation_dataframe\n",
    "# This uses the feature_detected as a measure of if the feature is detected.\n",
    "AU01_r_results = ef.extraction.get_activation_dataframe(basic_df, \n",
    "                                             #feature_detected=\"AU01_c\", \n",
    "                                             feature_intensity=\"AU01_r\",\n",
    "                                             intensity_threshold=3,\n",
    "                                             smooth_over_time_interval=0.5)#, threshold=1, threshold_method=\"threshold\")\n",
    "\n",
    "print()\n",
    "AU01_r_results"
   ]
  },
  {
   "cell_type": "code",
   "execution_count": 10,
   "metadata": {},
   "outputs": [
    {
     "data": {
      "image/png": "[encoded data removed]",
      "text/plain": [
       "<matplotlib.figure.Figure at 0x16f0439ac50>"
      ]
     },
     "metadata": {},
     "output_type": "display_data"
    }
   ],
   "source": [
    "\n",
    "plt.plot(basic_df[\"timestamp\"], basic_df[\"AU01_r\"], \"b\")\n",
    "plt.plot(basic_df[\"timestamp\"], basic_df[\"AU01_c\"]-1.1, \"--\", color=\"green\")\n",
    "plt.plot(basic_df[\"timestamp\"], basic_df[\"confidence\"], \"orange\")\n",
    "\n",
    "for t in AU_intervals:\n",
    "    plt.plot(t, [5.2,5.2], color=\"r\")\n",
    "    \n",
    "for t in zip(AU01_r_results[\"start\"], AU01_r_results[\"end\"]):\n",
    "    plt.plot(t, [5.3,5.3], color=\"b\")\n",
    "    \n",
    "    \n",
    "    \n",
    "plt.axhline(3, linestyle=\"--\")\n",
    "plt.show()"
   ]
  },
  {
   "cell_type": "code",
   "execution_count": null,
   "metadata": {},
   "outputs": [],
   "source": []
  }
 ],
 "metadata": {
  "kernelspec": {
   "display_name": "Python 3",
   "language": "python",
   "name": "python3"
  },
  "language_info": {
   "codemirror_mode": {
    "name": "ipython",
    "version": 3
   },
   "file_extension": ".py",
   "mimetype": "text/x-python",
   "name": "python",
   "nbconvert_exporter": "python",
   "pygments_lexer": "ipython3",
   "version": "3.6.3"
  }
 },
 "nbformat": 4,
 "nbformat_minor": 2
}
