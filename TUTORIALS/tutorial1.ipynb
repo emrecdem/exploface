{
 "cells": [
  {
   "cell_type": "markdown",
   "metadata": {},
   "source": [
    "# Tutorial 1: exploring openface csv files and using the exploface package"
   ]
  },
  {
   "cell_type": "markdown",
   "metadata": {},
   "source": [
    "#### By B.L. de Vries - 16 July 2018 - v0.0.0.dev1.1"
   ]
  },
  {
   "cell_type": "markdown",
   "metadata": {},
   "source": [
    "We will use the following standard packages. \n",
    "- Pandas to use large tables of data in the form of DataFrames. \n",
    "- matplotlib to plot data. \n",
    "- pprint to print dictionairies (python native data format) in a nice way."
   ]
  },
  {
   "cell_type": "code",
   "execution_count": 32,
   "metadata": {},
   "outputs": [],
   "source": [
    "import pandas as pd\n",
    "import matplotlib.pyplot as plt\n",
    "import pprint as pp"
   ]
  },
  {
   "cell_type": "markdown",
   "metadata": {},
   "source": [
    "Here are some general documentation websites for the packages used in this tutorial:"
   ]
  },
  {
   "cell_type": "markdown",
   "metadata": {},
   "source": [
    "- pandas: https://pandas.pydata.org/\n",
    "- matplotlib: https://matplotlib.org/\n",
    "- pprint: https://docs.python.org/2/library/pprint.html"
   ]
  },
  {
   "cell_type": "markdown",
   "metadata": {},
   "source": [
    "Then we also need to import the exploface package. Before you can do this you need to install it. See the readme file in the github repo. (https://github.com/emrecdem/exploface)"
   ]
  },
  {
   "cell_type": "code",
   "execution_count": 2,
   "metadata": {},
   "outputs": [],
   "source": [
    "import exploface"
   ]
  },
  {
   "cell_type": "markdown",
   "metadata": {},
   "source": [
    "## Content of the tutorial"
   ]
  },
  {
   "cell_type": "markdown",
   "metadata": {},
   "source": [
    "1. Loading your openface's output file with pandas: we will inspect the openface output csv file using pandas. We will see how many rows and columns the data has and plot one of the columns.\n",
    "2. Working with the basic functions of exploface: exploface has some functions to get more basic information and statistics on your openface output file. \n",
    "3. Writing out an Elan file using Exploface: here we will see how to output an Elan file for your openface csv file using exploface."
   ]
  },
  {
   "cell_type": "markdown",
   "metadata": {},
   "source": [
    "## 1. Loading your openface's output file with pandas"
   ]
  },
  {
   "cell_type": "markdown",
   "metadata": {},
   "source": [
    "First we will define variables holding the filenames we will be working with. The first is the filename of the video:"
   ]
  },
  {
   "cell_type": "code",
   "execution_count": 3,
   "metadata": {},
   "outputs": [],
   "source": [
    "video_file = \"video.mp4\""
   ]
  },
  {
   "cell_type": "markdown",
   "metadata": {},
   "source": [
    "We have analysed this video with openface and openface gave this file as output:"
   ]
  },
  {
   "cell_type": "code",
   "execution_count": 4,
   "metadata": {},
   "outputs": [],
   "source": [
    "openface_file = \"video.csv\""
   ]
  },
  {
   "cell_type": "markdown",
   "metadata": {},
   "source": [
    "We will load and view the csv file from openface using the pandas package. This gives you a DataFrame (https://pandas.pydata.org/pandas-docs/stable/generated/pandas.DataFrame.html) of the file that we call dataframe_openface_output. A DataFrame is something like a table with information. So it has rows and columns."
   ]
  },
  {
   "cell_type": "code",
   "execution_count": 5,
   "metadata": {},
   "outputs": [],
   "source": [
    "dataframe_openface_output = pd.read_csv(openface_file,skipinitialspace=True )"
   ]
  },
  {
   "cell_type": "markdown",
   "metadata": {},
   "source": [
    "We can view the columns of the dataframe using \".columns\". This outputs a dictionairy (https://docs.python.org/2/tutorial/datastructures.html#dictionaries) with columns names. We use prettyprint, pprint (https://docs.python.org/2/library/pprint.html), to nicely output the dictionairy. We also print the number of rows in the dataframe."
   ]
  },
  {
   "cell_type": "code",
   "execution_count": 6,
   "metadata": {},
   "outputs": [
    {
     "name": "stdout",
     "output_type": "stream",
     "text": [
      "Index(['frame', 'timestamp', 'confidence', 'success', 'gaze_0_x', 'gaze_0_y',\n",
      "       'gaze_0_z', 'gaze_1_x', 'gaze_1_y', 'gaze_1_z',\n",
      "       ...\n",
      "       'AU12_c', 'AU14_c', 'AU15_c', 'AU17_c', 'AU20_c', 'AU23_c', 'AU25_c',\n",
      "       'AU26_c', 'AU28_c', 'AU45_c'],\n",
      "      dtype='object', length=431)\n"
     ]
    },
    {
     "data": {
      "text/plain": [
       "'Number of rows: 1121'"
      ]
     },
     "execution_count": 6,
     "metadata": {},
     "output_type": "execute_result"
    }
   ],
   "source": [
    "pp.pprint(dataframe_openface_output.columns)\n",
    "\"Number of rows: {}\".format(len(dataframe_openface_output))"
   ]
  },
  {
   "cell_type": "markdown",
   "metadata": {},
   "source": [
    "Now we know the dataframe has 431 columns and 1121 rows. Lets have a look at the content of the dataframe holding the openface output. We print the first five rows of the DataFrame:"
   ]
  },
  {
   "cell_type": "code",
   "execution_count": 7,
   "metadata": {},
   "outputs": [
    {
     "data": {
      "text/html": [
       "<div>\n",
       "<style scoped>\n",
       "    .dataframe tbody tr th:only-of-type {\n",
       "        vertical-align: middle;\n",
       "    }\n",
       "\n",
       "    .dataframe tbody tr th {\n",
       "        vertical-align: top;\n",
       "    }\n",
       "\n",
       "    .dataframe thead th {\n",
       "        text-align: right;\n",
       "    }\n",
       "</style>\n",
       "<table border=\"1\" class=\"dataframe\">\n",
       "  <thead>\n",
       "    <tr style=\"text-align: right;\">\n",
       "      <th></th>\n",
       "      <th>frame</th>\n",
       "      <th>timestamp</th>\n",
       "      <th>confidence</th>\n",
       "      <th>success</th>\n",
       "      <th>gaze_0_x</th>\n",
       "      <th>gaze_0_y</th>\n",
       "      <th>gaze_0_z</th>\n",
       "      <th>gaze_1_x</th>\n",
       "      <th>gaze_1_y</th>\n",
       "      <th>gaze_1_z</th>\n",
       "      <th>...</th>\n",
       "      <th>AU12_c</th>\n",
       "      <th>AU14_c</th>\n",
       "      <th>AU15_c</th>\n",
       "      <th>AU17_c</th>\n",
       "      <th>AU20_c</th>\n",
       "      <th>AU23_c</th>\n",
       "      <th>AU25_c</th>\n",
       "      <th>AU26_c</th>\n",
       "      <th>AU28_c</th>\n",
       "      <th>AU45_c</th>\n",
       "    </tr>\n",
       "  </thead>\n",
       "  <tbody>\n",
       "    <tr>\n",
       "      <th>0</th>\n",
       "      <td>1</td>\n",
       "      <td>0.000000</td>\n",
       "      <td>0.921208</td>\n",
       "      <td>1</td>\n",
       "      <td>0.077684</td>\n",
       "      <td>0.000579</td>\n",
       "      <td>-0.996978</td>\n",
       "      <td>-0.070728</td>\n",
       "      <td>0.022693</td>\n",
       "      <td>-0.997237</td>\n",
       "      <td>...</td>\n",
       "      <td>0</td>\n",
       "      <td>0</td>\n",
       "      <td>1</td>\n",
       "      <td>0</td>\n",
       "      <td>0</td>\n",
       "      <td>1</td>\n",
       "      <td>1</td>\n",
       "      <td>0</td>\n",
       "      <td>0</td>\n",
       "      <td>0</td>\n",
       "    </tr>\n",
       "    <tr>\n",
       "      <th>1</th>\n",
       "      <td>2</td>\n",
       "      <td>0.033556</td>\n",
       "      <td>0.926320</td>\n",
       "      <td>1</td>\n",
       "      <td>0.111916</td>\n",
       "      <td>0.032193</td>\n",
       "      <td>-0.993196</td>\n",
       "      <td>-0.061005</td>\n",
       "      <td>0.043572</td>\n",
       "      <td>-0.997186</td>\n",
       "      <td>...</td>\n",
       "      <td>0</td>\n",
       "      <td>0</td>\n",
       "      <td>1</td>\n",
       "      <td>1</td>\n",
       "      <td>0</td>\n",
       "      <td>1</td>\n",
       "      <td>0</td>\n",
       "      <td>0</td>\n",
       "      <td>1</td>\n",
       "      <td>0</td>\n",
       "    </tr>\n",
       "    <tr>\n",
       "      <th>2</th>\n",
       "      <td>3</td>\n",
       "      <td>0.067112</td>\n",
       "      <td>0.928005</td>\n",
       "      <td>1</td>\n",
       "      <td>0.118085</td>\n",
       "      <td>0.035448</td>\n",
       "      <td>-0.992371</td>\n",
       "      <td>-0.051068</td>\n",
       "      <td>0.036808</td>\n",
       "      <td>-0.998017</td>\n",
       "      <td>...</td>\n",
       "      <td>0</td>\n",
       "      <td>0</td>\n",
       "      <td>1</td>\n",
       "      <td>1</td>\n",
       "      <td>0</td>\n",
       "      <td>1</td>\n",
       "      <td>1</td>\n",
       "      <td>0</td>\n",
       "      <td>1</td>\n",
       "      <td>0</td>\n",
       "    </tr>\n",
       "    <tr>\n",
       "      <th>3</th>\n",
       "      <td>4</td>\n",
       "      <td>0.100667</td>\n",
       "      <td>0.925478</td>\n",
       "      <td>1</td>\n",
       "      <td>0.123202</td>\n",
       "      <td>0.023357</td>\n",
       "      <td>-0.992107</td>\n",
       "      <td>-0.071824</td>\n",
       "      <td>0.051248</td>\n",
       "      <td>-0.996100</td>\n",
       "      <td>...</td>\n",
       "      <td>0</td>\n",
       "      <td>0</td>\n",
       "      <td>1</td>\n",
       "      <td>1</td>\n",
       "      <td>0</td>\n",
       "      <td>1</td>\n",
       "      <td>1</td>\n",
       "      <td>0</td>\n",
       "      <td>1</td>\n",
       "      <td>0</td>\n",
       "    </tr>\n",
       "    <tr>\n",
       "      <th>4</th>\n",
       "      <td>5</td>\n",
       "      <td>0.134223</td>\n",
       "      <td>0.923283</td>\n",
       "      <td>1</td>\n",
       "      <td>0.139863</td>\n",
       "      <td>0.043131</td>\n",
       "      <td>-0.989231</td>\n",
       "      <td>-0.077694</td>\n",
       "      <td>0.047579</td>\n",
       "      <td>-0.995841</td>\n",
       "      <td>...</td>\n",
       "      <td>0</td>\n",
       "      <td>0</td>\n",
       "      <td>1</td>\n",
       "      <td>1</td>\n",
       "      <td>0</td>\n",
       "      <td>1</td>\n",
       "      <td>1</td>\n",
       "      <td>0</td>\n",
       "      <td>1</td>\n",
       "      <td>0</td>\n",
       "    </tr>\n",
       "  </tbody>\n",
       "</table>\n",
       "<p>5 rows × 431 columns</p>\n",
       "</div>"
      ],
      "text/plain": [
       "   frame  timestamp  confidence  success  gaze_0_x  gaze_0_y  gaze_0_z  \\\n",
       "0      1   0.000000    0.921208        1  0.077684  0.000579 -0.996978   \n",
       "1      2   0.033556    0.926320        1  0.111916  0.032193 -0.993196   \n",
       "2      3   0.067112    0.928005        1  0.118085  0.035448 -0.992371   \n",
       "3      4   0.100667    0.925478        1  0.123202  0.023357 -0.992107   \n",
       "4      5   0.134223    0.923283        1  0.139863  0.043131 -0.989231   \n",
       "\n",
       "   gaze_1_x  gaze_1_y  gaze_1_z   ...    AU12_c  AU14_c  AU15_c  AU17_c  \\\n",
       "0 -0.070728  0.022693 -0.997237   ...         0       0       1       0   \n",
       "1 -0.061005  0.043572 -0.997186   ...         0       0       1       1   \n",
       "2 -0.051068  0.036808 -0.998017   ...         0       0       1       1   \n",
       "3 -0.071824  0.051248 -0.996100   ...         0       0       1       1   \n",
       "4 -0.077694  0.047579 -0.995841   ...         0       0       1       1   \n",
       "\n",
       "   AU20_c  AU23_c  AU25_c  AU26_c  AU28_c  AU45_c  \n",
       "0       0       1       1       0       0       0  \n",
       "1       0       1       0       0       1       0  \n",
       "2       0       1       1       0       1       0  \n",
       "3       0       1       1       0       1       0  \n",
       "4       0       1       1       0       1       0  \n",
       "\n",
       "[5 rows x 431 columns]"
      ]
     },
     "execution_count": 7,
     "metadata": {},
     "output_type": "execute_result"
    }
   ],
   "source": [
    "dataframe_openface_output.head(5)"
   ]
  },
  {
   "cell_type": "markdown",
   "metadata": {},
   "source": [
    "We can also specifically look at a few columns, lets try AU06_c and the time:"
   ]
  },
  {
   "cell_type": "code",
   "execution_count": 8,
   "metadata": {},
   "outputs": [
    {
     "data": {
      "text/html": [
       "<div>\n",
       "<style scoped>\n",
       "    .dataframe tbody tr th:only-of-type {\n",
       "        vertical-align: middle;\n",
       "    }\n",
       "\n",
       "    .dataframe tbody tr th {\n",
       "        vertical-align: top;\n",
       "    }\n",
       "\n",
       "    .dataframe thead th {\n",
       "        text-align: right;\n",
       "    }\n",
       "</style>\n",
       "<table border=\"1\" class=\"dataframe\">\n",
       "  <thead>\n",
       "    <tr style=\"text-align: right;\">\n",
       "      <th></th>\n",
       "      <th>timestamp</th>\n",
       "      <th>AU06_c</th>\n",
       "    </tr>\n",
       "  </thead>\n",
       "  <tbody>\n",
       "    <tr>\n",
       "      <th>0</th>\n",
       "      <td>0.000000</td>\n",
       "      <td>0</td>\n",
       "    </tr>\n",
       "    <tr>\n",
       "      <th>1</th>\n",
       "      <td>0.033556</td>\n",
       "      <td>0</td>\n",
       "    </tr>\n",
       "    <tr>\n",
       "      <th>2</th>\n",
       "      <td>0.067112</td>\n",
       "      <td>0</td>\n",
       "    </tr>\n",
       "    <tr>\n",
       "      <th>3</th>\n",
       "      <td>0.100667</td>\n",
       "      <td>0</td>\n",
       "    </tr>\n",
       "    <tr>\n",
       "      <th>4</th>\n",
       "      <td>0.134223</td>\n",
       "      <td>0</td>\n",
       "    </tr>\n",
       "  </tbody>\n",
       "</table>\n",
       "</div>"
      ],
      "text/plain": [
       "   timestamp  AU06_c\n",
       "0   0.000000       0\n",
       "1   0.033556       0\n",
       "2   0.067112       0\n",
       "3   0.100667       0\n",
       "4   0.134223       0"
      ]
     },
     "execution_count": 8,
     "metadata": {},
     "output_type": "execute_result"
    }
   ],
   "source": [
    "dataframe_openface_output[[\"timestamp\", \"AU06_c\"]].head(5)"
   ]
  },
  {
   "cell_type": "markdown",
   "metadata": {},
   "source": [
    "You can also easily visually inspect the columns of the dataframe by plotting them. Here we plot the AU06 using matplotlib."
   ]
  },
  {
   "cell_type": "code",
   "execution_count": 9,
   "metadata": {},
   "outputs": [
    {
     "data": {
      "text/plain": [
       "[<matplotlib.lines.Line2D at 0x16dc48495f8>]"
      ]
     },
     "execution_count": 9,
     "metadata": {},
     "output_type": "execute_result"
    },
    {
     "data": {
      "image/png": "[encoded data removed]",
      "text/plain": [
       "<matplotlib.figure.Figure at 0x16dc47e8908>"
      ]
     },
     "metadata": {},
     "output_type": "display_data"
    }
   ],
   "source": [
    "plt.xlabel(\"Time (sec)\")\n",
    "plt.ylabel(\"AU06_c\")\n",
    "plt.plot(dataframe_openface_output[\"timestamp\"], dataframe_openface_output[\"AU06_c\"])"
   ]
  },
  {
   "cell_type": "markdown",
   "metadata": {},
   "source": [
    "## 2. Working with the basic functions of exploface"
   ]
  },
  {
   "cell_type": "markdown",
   "metadata": {},
   "source": [
    "We have imported exploface and it offers a few functions. You can call these functions using \n",
    "```\n",
    "exploface.function_name(parameter1, parameter2, ...)\n",
    "```"
   ]
  },
  {
   "cell_type": "markdown",
   "metadata": {},
   "source": [
    "The first function is ```exploface.get_info(path_to_openface_csv_file)``` and it takes as a parameter a path to an openface output file like we defined as ```openface_file```. So you can call it like this:"
   ]
  },
  {
   "cell_type": "code",
   "execution_count": 10,
   "metadata": {},
   "outputs": [
    {
     "data": {
      "text/plain": [
       "{'column_names': ['X_65',\n",
       "  'AU26_c',\n",
       "  'x_42',\n",
       "  'X_47',\n",
       "  'Z_9',\n",
       "  'AU15_c',\n",
       "  'pose_Ry',\n",
       "  'AU25_c',\n",
       "  'Y_43',\n",
       "  'y_11',\n",
       "  '...'],\n",
       " 'duration': 37.5825,\n",
       " 'number_of_columns': 431,\n",
       " 'time_resolution': 0.033555800000000004}"
      ]
     },
     "execution_count": 10,
     "metadata": {},
     "output_type": "execute_result"
    }
   ],
   "source": [
    "exploface.get_info(openface_file)"
   ]
  },
  {
   "cell_type": "markdown",
   "metadata": {},
   "source": [
    "What you get from the function in return is a dictionairy of information about the openface file. It tells you the column_names, duration of the video, number of columns and the time resolution of recording. So with this function you can quickly inspect the properties of the video file and the openface results. We see that the video is roughly 38sec long and has a timestep for the camera frames of 0.034 seconds."
   ]
  },
  {
   "cell_type": "markdown",
   "metadata": {},
   "source": [
    "Besides this basic information you want to know a bit more about the openface results in the openface_file. For getting a bit of statisics on the openface output we have the function ```get_statistics```. This function also takes a path to an openface output file like this:"
   ]
  },
  {
   "cell_type": "code",
   "execution_count": 30,
   "metadata": {},
   "outputs": [
    {
     "data": {
      "text/html": [
       "<div>\n",
       "<style scoped>\n",
       "    .dataframe tbody tr th:only-of-type {\n",
       "        vertical-align: middle;\n",
       "    }\n",
       "\n",
       "    .dataframe tbody tr th {\n",
       "        vertical-align: top;\n",
       "    }\n",
       "\n",
       "    .dataframe thead th {\n",
       "        text-align: right;\n",
       "    }\n",
       "</style>\n",
       "<table border=\"1\" class=\"dataframe\">\n",
       "  <thead>\n",
       "    <tr style=\"text-align: right;\">\n",
       "      <th></th>\n",
       "      <th>average_length_detection</th>\n",
       "      <th>nr_detections</th>\n",
       "      <th>std_average_length_detection</th>\n",
       "    </tr>\n",
       "  </thead>\n",
       "  <tbody>\n",
       "    <tr>\n",
       "      <th>AU01</th>\n",
       "      <td>0.25</td>\n",
       "      <td>3</td>\n",
       "      <td>0.169706</td>\n",
       "    </tr>\n",
       "    <tr>\n",
       "      <th>AU02</th>\n",
       "      <td>0.25</td>\n",
       "      <td>10</td>\n",
       "      <td>0.169706</td>\n",
       "    </tr>\n",
       "    <tr>\n",
       "      <th>AU04</th>\n",
       "      <td>0.25</td>\n",
       "      <td>3</td>\n",
       "      <td>0.169706</td>\n",
       "    </tr>\n",
       "    <tr>\n",
       "      <th>AU05</th>\n",
       "      <td>0.25</td>\n",
       "      <td>11</td>\n",
       "      <td>0.169706</td>\n",
       "    </tr>\n",
       "    <tr>\n",
       "      <th>AU06</th>\n",
       "      <td>0.25</td>\n",
       "      <td>1</td>\n",
       "      <td>0.169706</td>\n",
       "    </tr>\n",
       "    <tr>\n",
       "      <th>AU10</th>\n",
       "      <td>0.25</td>\n",
       "      <td>7</td>\n",
       "      <td>0.169706</td>\n",
       "    </tr>\n",
       "    <tr>\n",
       "      <th>AU12</th>\n",
       "      <td>0.25</td>\n",
       "      <td>1</td>\n",
       "      <td>0.169706</td>\n",
       "    </tr>\n",
       "    <tr>\n",
       "      <th>AU14</th>\n",
       "      <td>0.25</td>\n",
       "      <td>5</td>\n",
       "      <td>0.169706</td>\n",
       "    </tr>\n",
       "    <tr>\n",
       "      <th>AU15</th>\n",
       "      <td>0.25</td>\n",
       "      <td>11</td>\n",
       "      <td>0.169706</td>\n",
       "    </tr>\n",
       "    <tr>\n",
       "      <th>AU17</th>\n",
       "      <td>0.25</td>\n",
       "      <td>6</td>\n",
       "      <td>0.169706</td>\n",
       "    </tr>\n",
       "    <tr>\n",
       "      <th>AU20</th>\n",
       "      <td>0.25</td>\n",
       "      <td>2</td>\n",
       "      <td>0.169706</td>\n",
       "    </tr>\n",
       "    <tr>\n",
       "      <th>AU23</th>\n",
       "      <td>0.25</td>\n",
       "      <td>9</td>\n",
       "      <td>0.169706</td>\n",
       "    </tr>\n",
       "    <tr>\n",
       "      <th>AU25</th>\n",
       "      <td>0.25</td>\n",
       "      <td>11</td>\n",
       "      <td>0.169706</td>\n",
       "    </tr>\n",
       "    <tr>\n",
       "      <th>AU26</th>\n",
       "      <td>0.25</td>\n",
       "      <td>10</td>\n",
       "      <td>0.169706</td>\n",
       "    </tr>\n",
       "    <tr>\n",
       "      <th>AU28</th>\n",
       "      <td>0.25</td>\n",
       "      <td>8</td>\n",
       "      <td>0.169706</td>\n",
       "    </tr>\n",
       "    <tr>\n",
       "      <th>AU45</th>\n",
       "      <td>0.25</td>\n",
       "      <td>7</td>\n",
       "      <td>0.169706</td>\n",
       "    </tr>\n",
       "  </tbody>\n",
       "</table>\n",
       "</div>"
      ],
      "text/plain": [
       "      average_length_detection  nr_detections  std_average_length_detection\n",
       "AU01                      0.25              3                      0.169706\n",
       "AU02                      0.25             10                      0.169706\n",
       "AU04                      0.25              3                      0.169706\n",
       "AU05                      0.25             11                      0.169706\n",
       "AU06                      0.25              1                      0.169706\n",
       "AU10                      0.25              7                      0.169706\n",
       "AU12                      0.25              1                      0.169706\n",
       "AU14                      0.25              5                      0.169706\n",
       "AU15                      0.25             11                      0.169706\n",
       "AU17                      0.25              6                      0.169706\n",
       "AU20                      0.25              2                      0.169706\n",
       "AU23                      0.25              9                      0.169706\n",
       "AU25                      0.25             11                      0.169706\n",
       "AU26                      0.25             10                      0.169706\n",
       "AU28                      0.25              8                      0.169706\n",
       "AU45                      0.25              7                      0.169706"
      ]
     },
     "execution_count": 30,
     "metadata": {},
     "output_type": "execute_result"
    }
   ],
   "source": [
    "stats_df = exploface.get_statistics(openface_file)\n",
    "stats_df"
   ]
  },
  {
   "cell_type": "markdown",
   "metadata": {},
   "source": [
    "This function now gives some statistics on the action units detected by openface. It returns this in the form of a pandas DataFrame. So for every AU you see the number of times it got detect, the average duration of a detection and the standard deviation on this duration. This function gives a quick way to see what openface found for different AUs."
   ]
  },
  {
   "cell_type": "markdown",
   "metadata": {},
   "source": [
    "We can plot some of the statistics, for example the number of times an AU got detected, in this way:"
   ]
  },
  {
   "cell_type": "code",
   "execution_count": 29,
   "metadata": {},
   "outputs": [
    {
     "data": {
      "image/png": "[encoded data removed]",
      "text/plain": [
       "<matplotlib.figure.Figure at 0x16dc5a15a90>"
      ]
     },
     "metadata": {},
     "output_type": "display_data"
    }
   ],
   "source": [
    "plt.figure(figsize=(10,4))\n",
    "plt.ylabel(\"Number of detections\")\n",
    "plt.bar(stats_df.index, stats_df[\"nr_detections\"], 0.5, color=\"blue\")\n",
    "plt.show()"
   ]
  },
  {
   "cell_type": "markdown",
   "metadata": {},
   "source": [
    "## Writing out an Elan file using Exploface"
   ]
  },
  {
   "cell_type": "markdown",
   "metadata": {},
   "source": [
    "With the ```exploface.write_elan_file()``` function you can quickly write out an Elan file. Here we will use the standard settings, in Tutorial 2 we will look at the different settings possible with the ```write_elan_file()``` function. \n",
    "\n",
    "You have to specify as parameters the ```openface_file``` and optionally the ```video_file``` and then the ```output_path``` (if you do not give the ```output_path``` no elan file will be written). The output_path specifies the file where you want the elan file to be written to. If you give a ```video_path``` this will be used to directly point elan to the video when you open the elan file in Elan. So when you open elan it will show the annotations and the video. (The link between the elan file and the video file will be broken if you later move these files to different directories in a way that changes their relative path to each other.)"
   ]
  },
  {
   "cell_type": "code",
   "execution_count": 31,
   "metadata": {},
   "outputs": [],
   "source": [
    "dataframe_timestamp = exploface.write_elan_file(openface_file,\n",
    "                                                  video_path=video_file,\n",
    "                                                  output_path=\"video.eaf\",\n",
    "                        )"
   ]
  },
  {
   "cell_type": "markdown",
   "metadata": {},
   "source": [
    "You can now open the video.eaf with Elan to inspect the openface output."
   ]
  },
  {
   "cell_type": "code",
   "execution_count": null,
   "metadata": {},
   "outputs": [],
   "source": []
  }
 ],
 "metadata": {
  "kernelspec": {
   "display_name": "Python 3",
   "language": "python",
   "name": "python3"
  },
  "language_info": {
   "codemirror_mode": {
    "name": "ipython",
    "version": 3
   },
   "file_extension": ".py",
   "mimetype": "text/x-python",
   "name": "python",
   "nbconvert_exporter": "python",
   "pygments_lexer": "ipython3",
   "version": "3.6.3"
  }
 },
 "nbformat": 4,
 "nbformat_minor": 2
}
